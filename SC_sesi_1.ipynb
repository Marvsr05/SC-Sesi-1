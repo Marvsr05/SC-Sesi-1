{
  "nbformat": 4,
  "nbformat_minor": 0,
  "metadata": {
    "colab": {
      "provenance": [],
      "authorship_tag": "ABX9TyNN5UGm/eLlXsv9hCgZJZ5S",
      "include_colab_link": true
    },
    "kernelspec": {
      "name": "python3",
      "display_name": "Python 3"
    },
    "language_info": {
      "name": "python"
    }
  },
  "cells": [
    {
      "cell_type": "markdown",
      "metadata": {
        "id": "view-in-github",
        "colab_type": "text"
      },
      "source": [
        "<a href=\"https://colab.research.google.com/github/Marvsr05/SC-Sesi-1/blob/main/SC_sesi_1.ipynb\" target=\"_parent\"><img src=\"https://colab.research.google.com/assets/colab-badge.svg\" alt=\"Open In Colab\"/></a>"
      ]
    },
    {
      "cell_type": "code",
      "execution_count": null,
      "metadata": {
        "colab": {
          "base_uri": "https://localhost:8080/"
        },
        "id": "TB8M_W6Zj44k",
        "outputId": "d987c47e-b42e-49b8-e843-153a6496a3d5"
      },
      "outputs": [
        {
          "output_type": "stream",
          "name": "stdout",
          "text": [
            "hello\n"
          ]
        }
      ],
      "source": [
        "print (\"hello\")"
      ]
    },
    {
      "cell_type": "code",
      "source": [
        "import time"
      ],
      "metadata": {
        "id": "0hJ-1wTrkB6X"
      },
      "execution_count": null,
      "outputs": []
    },
    {
      "cell_type": "code",
      "source": [
        "print(time.ctime())"
      ],
      "metadata": {
        "colab": {
          "base_uri": "https://localhost:8080/"
        },
        "id": "ONMPzzUjkdZN",
        "outputId": "20c22c3f-57ad-4663-bfb0-82d68406a605"
      },
      "execution_count": null,
      "outputs": [
        {
          "output_type": "stream",
          "name": "stdout",
          "text": [
            "Fri Feb  7 12:39:30 2025\n"
          ]
        }
      ]
    },
    {
      "cell_type": "code",
      "source": [
        "z = \"Hello\"\n",
        "y = 20\n",
        "c = 30.9\n",
        "f = [\"Apple\", \"berry\"]\n",
        "\n",
        "z,y,c,f\n",
        "print (z,y,c,f)"
      ],
      "metadata": {
        "colab": {
          "base_uri": "https://localhost:8080/"
        },
        "id": "auVV3A1Iknra",
        "outputId": "a6e7394d-1300-4d78-9be2-55b569db5768"
      },
      "execution_count": null,
      "outputs": [
        {
          "output_type": "stream",
          "name": "stdout",
          "text": [
            "Hello 20 30.9 ['Apple', 'berry']\n"
          ]
        }
      ]
    },
    {
      "cell_type": "code",
      "source": [
        "o = int(1)\n",
        "y = int(2.8)\n",
        "z = int(\"3\")\n",
        "j = str(20)\n",
        "print(o,y,z,j)"
      ],
      "metadata": {
        "colab": {
          "base_uri": "https://localhost:8080/"
        },
        "id": "uxDYy1g5k_rs",
        "outputId": "5fdae3a7-b07c-4658-aa5e-ae9b66660569"
      },
      "execution_count": null,
      "outputs": [
        {
          "output_type": "stream",
          "name": "stdout",
          "text": [
            "1 2 3 20\n"
          ]
        }
      ]
    },
    {
      "cell_type": "code",
      "source": [
        "a = \"Hello\"\n",
        "b = \" world\"\n",
        "c = a+b\n",
        "\n",
        "print(c)"
      ],
      "metadata": {
        "colab": {
          "base_uri": "https://localhost:8080/"
        },
        "id": "PsH4axChoTqu",
        "outputId": "9c078a6d-ecd9-4389-e416-07e3638170ae"
      },
      "execution_count": null,
      "outputs": [
        {
          "output_type": "stream",
          "name": "stdout",
          "text": [
            "Hello world\n"
          ]
        }
      ]
    },
    {
      "cell_type": "code",
      "source": [
        "a = \"Hello world\"\n",
        "print(a[1])\n",
        "\n",
        "print(len(a))"
      ],
      "metadata": {
        "colab": {
          "base_uri": "https://localhost:8080/"
        },
        "id": "cB6IyL7Kl588",
        "outputId": "fac8345c-882b-4b94-b13a-2dbc01eadcc0"
      },
      "execution_count": null,
      "outputs": [
        {
          "output_type": "stream",
          "name": "stdout",
          "text": [
            "e\n",
            "11\n"
          ]
        }
      ]
    },
    {
      "cell_type": "code",
      "source": [
        "b = \"BINUS Univ\"\n",
        "print(b[2:5])\n",
        "\n",
        "c = \"BINUS Univ\"\n",
        "print(c[:5])\n",
        "\n",
        "d = \"BINUS Univ\"\n",
        "print(d[2:])"
      ],
      "metadata": {
        "colab": {
          "base_uri": "https://localhost:8080/"
        },
        "id": "JdgRplWql5_b",
        "outputId": "24636d28-bdaf-4061-f24a-e45d8d871e5d"
      },
      "execution_count": null,
      "outputs": [
        {
          "output_type": "stream",
          "name": "stdout",
          "text": [
            "NUS\n",
            "BINUS\n",
            "NUS Univ\n"
          ]
        }
      ]
    },
    {
      "cell_type": "code",
      "source": [
        "a = \"Hello\"\n",
        "print(a.upper())\n",
        "\n",
        "b = \"Hello\"\n",
        "print(b.lower())\n",
        "\n",
        "c = \"Hello\"\n",
        "print(a.replace(\"H\", \"J\"))"
      ],
      "metadata": {
        "colab": {
          "base_uri": "https://localhost:8080/"
        },
        "id": "pvkEbWZ2ns8W",
        "outputId": "7c26368a-eaaa-4396-b207-882b2d881403"
      },
      "execution_count": null,
      "outputs": [
        {
          "output_type": "stream",
          "name": "stdout",
          "text": [
            "HELLO\n",
            "hello\n",
            "Jello\n"
          ]
        }
      ]
    },
    {
      "cell_type": "code",
      "source": [
        "nama = \"Marv\"\n",
        "x = 18\n",
        "string = \"nama saya {} umur {}\"\n",
        "\n",
        "print(string.format(nama, x))"
      ],
      "metadata": {
        "colab": {
          "base_uri": "https://localhost:8080/"
        },
        "id": "Id-lPDq6ntnt",
        "outputId": "81e291fc-ffec-4693-e469-2bfd67416e50"
      },
      "execution_count": null,
      "outputs": [
        {
          "output_type": "stream",
          "name": "stdout",
          "text": [
            "nama saya Marv umur 18\n"
          ]
        }
      ]
    },
    {
      "cell_type": "code",
      "source": [
        "nama = \"Grace\"\n",
        "for i in enumerate(nama):\n",
        "    print(i)"
      ],
      "metadata": {
        "colab": {
          "base_uri": "https://localhost:8080/"
        },
        "id": "3tFwtPdcoqtO",
        "outputId": "48fa4f3a-7a89-403c-81ad-c1ef657924f0"
      },
      "execution_count": null,
      "outputs": [
        {
          "output_type": "stream",
          "name": "stdout",
          "text": [
            "(0, 'G')\n",
            "(1, 'r')\n",
            "(2, 'a')\n",
            "(3, 'c')\n",
            "(4, 'e')\n"
          ]
        }
      ]
    },
    {
      "cell_type": "code",
      "source": [
        "def perbandingan (a,b):\n",
        "  if a > b:\n",
        "    print(\"a lebih dari b\")\n",
        "  elif a<b:\n",
        "   print(\"a kurang dari b\")\n",
        "  else:\n",
        "    print(\"a = b\")\n"
      ],
      "metadata": {
        "id": "hm7hQvBcntqn"
      },
      "execution_count": null,
      "outputs": []
    },
    {
      "cell_type": "code",
      "source": [
        "perbandingan(4,8)"
      ],
      "metadata": {
        "colab": {
          "base_uri": "https://localhost:8080/"
        },
        "id": "21b5IWell6vT",
        "outputId": "8fb570f6-c953-44ff-a585-afbc1d7e443c"
      },
      "execution_count": null,
      "outputs": [
        {
          "output_type": "stream",
          "name": "stdout",
          "text": [
            "a kurang dari b\n"
          ]
        }
      ]
    },
    {
      "cell_type": "code",
      "source": [
        "i = 1\n",
        "while i<6:\n",
        "  print(i)\n",
        "  i += 1"
      ],
      "metadata": {
        "colab": {
          "base_uri": "https://localhost:8080/"
        },
        "id": "XAtT5JQIqxs3",
        "outputId": "9270c130-20d5-4045-d17a-64ffbc9dac24"
      },
      "execution_count": null,
      "outputs": [
        {
          "output_type": "stream",
          "name": "stdout",
          "text": [
            "1\n",
            "2\n",
            "3\n",
            "4\n",
            "5\n"
          ]
        }
      ]
    },
    {
      "cell_type": "code",
      "source": [
        "i=3\n",
        "for i in range(0,6):\n",
        "  print(i)"
      ],
      "metadata": {
        "colab": {
          "base_uri": "https://localhost:8080/"
        },
        "id": "3cv8aP_crSZg",
        "outputId": "31459764-fbbe-43ae-c07f-5d00c1c4e2c4"
      },
      "execution_count": null,
      "outputs": [
        {
          "output_type": "stream",
          "name": "stdout",
          "text": [
            "0\n",
            "1\n",
            "2\n",
            "3\n",
            "4\n",
            "5\n"
          ]
        }
      ]
    },
    {
      "cell_type": "code",
      "source": [
        "i = 1\n",
        "for i in range(2,40):\n",
        "  if i % 2 == 1:\n",
        "   print(i, \"ganjil\")\n",
        "\n",
        "  elif i % 2 == 0:\n",
        "   print(i, \"genap\")"
      ],
      "metadata": {
        "colab": {
          "base_uri": "https://localhost:8080/"
        },
        "id": "i2a1liuHscaH",
        "outputId": "4046fdfa-5ff4-491f-8a03-94facebd3507"
      },
      "execution_count": null,
      "outputs": [
        {
          "output_type": "stream",
          "name": "stdout",
          "text": [
            "2 genap\n",
            "3 ganjil\n",
            "4 genap\n",
            "5 ganjil\n",
            "6 genap\n",
            "7 ganjil\n",
            "8 genap\n",
            "9 ganjil\n",
            "10 genap\n",
            "11 ganjil\n",
            "12 genap\n",
            "13 ganjil\n",
            "14 genap\n",
            "15 ganjil\n",
            "16 genap\n",
            "17 ganjil\n",
            "18 genap\n",
            "19 ganjil\n",
            "20 genap\n",
            "21 ganjil\n",
            "22 genap\n",
            "23 ganjil\n",
            "24 genap\n",
            "25 ganjil\n",
            "26 genap\n",
            "27 ganjil\n",
            "28 genap\n",
            "29 ganjil\n",
            "30 genap\n",
            "31 ganjil\n",
            "32 genap\n",
            "33 ganjil\n",
            "34 genap\n",
            "35 ganjil\n",
            "36 genap\n",
            "37 ganjil\n",
            "38 genap\n",
            "39 ganjil\n"
          ]
        }
      ]
    },
    {
      "cell_type": "code",
      "source": [
        "import numpy as np"
      ],
      "metadata": {
        "id": "jwIwFBVNu13D"
      },
      "execution_count": null,
      "outputs": []
    },
    {
      "cell_type": "code",
      "source": [
        "x = np.array([[1,2,3], [3,6,7]])\n",
        "x"
      ],
      "metadata": {
        "colab": {
          "base_uri": "https://localhost:8080/"
        },
        "id": "9LIdHZo1vKL7",
        "outputId": "99427e6f-91dc-41cf-f3f3-f52e30ef4e2e"
      },
      "execution_count": null,
      "outputs": [
        {
          "output_type": "execute_result",
          "data": {
            "text/plain": [
              "array([[1, 2, 3],\n",
              "       [3, 6, 7]])"
            ]
          },
          "metadata": {},
          "execution_count": 29
        }
      ]
    },
    {
      "cell_type": "code",
      "source": [
        "y = np.array([[8,2,9], [3,5,7]])\n",
        "y"
      ],
      "metadata": {
        "colab": {
          "base_uri": "https://localhost:8080/"
        },
        "id": "Ys98P7gkviPq",
        "outputId": "85ea5b18-bc06-47f4-8957-9ac1da8e15a6"
      },
      "execution_count": null,
      "outputs": [
        {
          "output_type": "execute_result",
          "data": {
            "text/plain": [
              "array([[8, 2, 9],\n",
              "       [3, 5, 7]])"
            ]
          },
          "metadata": {},
          "execution_count": 30
        }
      ]
    },
    {
      "cell_type": "code",
      "source": [
        "print(x+y)"
      ],
      "metadata": {
        "colab": {
          "base_uri": "https://localhost:8080/"
        },
        "id": "vARdiAg-wLHy",
        "outputId": "311d3bb4-f4be-442f-b024-16830c025c4e"
      },
      "execution_count": null,
      "outputs": [
        {
          "output_type": "stream",
          "name": "stdout",
          "text": [
            "[[ 9  4 12]\n",
            " [ 6 11 14]]\n"
          ]
        }
      ]
    },
    {
      "cell_type": "code",
      "source": [
        "data = np.array([10,9,8,7,5,6])\n",
        "print(\"Rata-Rata:\", np.mean(data))\n",
        "print(\"Maksimum:\", np.max(data))\n",
        "print(\"Minimum:\", np.min(data))\n",
        "print(\"Standar Deviasi:\", np.std(data))"
      ],
      "metadata": {
        "colab": {
          "base_uri": "https://localhost:8080/"
        },
        "id": "hyYg6vFVxAvN",
        "outputId": "712746a2-c2f6-4acc-c2d3-8adb8a41c75f"
      },
      "execution_count": null,
      "outputs": [
        {
          "output_type": "stream",
          "name": "stdout",
          "text": [
            "Rata-Rata: 7.5\n",
            "Maksimum: 10\n",
            "Minimum: 5\n",
            "Standar Deviasi: 1.707825127659933\n"
          ]
        }
      ]
    },
    {
      "cell_type": "code",
      "source": [
        "def valid_input(prompt):\n",
        "    while True:\n",
        "        try:\n",
        "            value = float(input(prompt))\n",
        "            if 0 <= value <= 100:\n",
        "                return value\n",
        "            else:\n",
        "                print(\"Nilai harus antara 0 dan 100.\")\n",
        "        except ValueError:\n",
        "            print(\"Input tidak valid, harap masukkan angka.\")\n",
        "\n",
        "def login():\n",
        "    username = input(\"Masukkan username anda: \")\n",
        "    pswd = input(\"Masukkan password anda: \")\n",
        "    while pswd != \"Admin123\":\n",
        "        print(\"Username atau password salah. Silakan coba lagi.\")\n",
        "        pswd = input(\"Masukkan password anda: \")\n",
        "    print(f\"Login berhasil! Selamat datang, {username}.\")\n",
        "\n",
        "def calculate(UAS, UTS, ASG):\n",
        "  return (0.5 * UAS) + (0.3 * UTS) + (0.2 * ASG)\n",
        "\n",
        "def grade(nilai):\n",
        "  if nilai >= 90:\n",
        "    return \"A\"\n",
        "  elif nilai >= 85:\n",
        "    return \"A-\"\n",
        "  elif nilai >= 80:\n",
        "    return \"B+\"\n",
        "  elif nilai >= 75:\n",
        "    return \"B\"\n",
        "  elif nilai >= 70:\n",
        "    return \"B-\"\n",
        "  elif nilai >= 65:\n",
        "    return \"C\"\n",
        "  elif nilai >= 60:\n",
        "    return \"D\"\n",
        "  elif nilai >= 11:\n",
        "    return \"E\"\n",
        "  else:\n",
        "    return \"F\"\n",
        "\n",
        "def main():\n",
        "  login()\n",
        "  username = input(\"Masukkan nama mahasiswa: \")\n",
        "\n",
        "  UAS = valid_input(\"Masukkan nilai UAS: \")\n",
        "  UTS = valid_input(\"Masukkan nilai UTS: \")\n",
        "  ASG = valid_input(\"Masukkan nilai Assignment: \")\n",
        "  nilai = calculate(UAS, UTS, ASG)\n",
        "  final_grade = grade(nilai)\n",
        "  print(\"======================================1=\\n\")\n",
        "  print(f\"Hasil perolehan nilai {username}\")\n",
        "  print(f\"Final Score: {nilai:.2f}\")\n",
        "  print(f\"Grade: {final_grade}\")\n",
        "  print(\"\\n======================================\")\n",
        "\n",
        "if __name__ == \"__main__\":\n",
        "  main()"
      ],
      "metadata": {
        "id": "XYD7LIPjnGMe",
        "colab": {
          "base_uri": "https://localhost:8080/"
        },
        "outputId": "9957ff7d-7d1f-4025-f4b8-92e5a598cca1"
      },
      "execution_count": null,
      "outputs": [
        {
          "output_type": "stream",
          "name": "stdout",
          "text": [
            "Masukkan username anda: halo\n",
            "Masukkan password anda: admin\n",
            "Username atau password salah. Silakan coba lagi.\n",
            "Masukkan password anda: Admin123\n",
            "Login berhasil! Selamat datang, halo.\n",
            "Masukkan nama mahasiswa: Marvel S\n",
            "Masukkan nilai UAS: 88\n",
            "Masukkan nilai UTS: 92\n",
            "Masukkan nilai Assignment: 98\n",
            "======================================1=\n",
            "\n",
            "Hasil perolehan nilai Marvel S\n",
            "Final Score: 91.20\n",
            "Grade: A\n",
            "\n",
            "======================================\n"
          ]
        }
      ]
    }
  ]
}